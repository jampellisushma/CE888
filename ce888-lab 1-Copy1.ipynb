{
 "cells": [
  {
   "cell_type": "code",
   "execution_count": null,
   "metadata": {},
   "outputs": [],
   "source": [
    "# Questions 1. Write a function name 'avg', which take an array of number and calculate the average"
   ]
  },
  {
   "cell_type": "code",
   "execution_count": 38,
   "metadata": {},
   "outputs": [
    {
     "data": {
      "text/plain": [
       "78.0"
      ]
     },
     "execution_count": 38,
     "metadata": {},
     "output_type": "execute_result"
    }
   ],
   "source": [
    "import numpy as np\n",
    "def avg(marks):\n",
    "    sum = 0\n",
    "    for T in marks:\n",
    "      sum = sum + T\n",
    "    avg =sum /len(marks)\n",
    "    return avg\n",
    "\n",
    "marks = [55,88,78,90,79]\n",
    "avg(marks = [55,88,78,90,79])"
   ]
  },
  {
   "cell_type": "code",
   "execution_count": null,
   "metadata": {},
   "outputs": [],
   "source": [
    "# Questions 2. Write a function name 'areaCricle', which take radius as a argument and calculate the area."
   ]
  },
  {
   "cell_type": "code",
   "execution_count": 8,
   "metadata": {},
   "outputs": [
    {
     "data": {
      "text/plain": [
       "452.3893421169302"
      ]
     },
     "execution_count": 8,
     "metadata": {},
     "output_type": "execute_result"
    }
   ],
   "source": [
    "from math import pi # Use pi value from math package\n",
    "def areaCricle(radius):\n",
    "    # YOUR CODE HERE\n",
    "    return pi * radius * radius\n",
    "    #x = round((area), 2)\n",
    "    \n",
    "areaCricle(12)\n"
   ]
  },
  {
   "cell_type": "code",
   "execution_count": null,
   "metadata": {},
   "outputs": [],
   "source": [
    "# Question 3. Write a function that takes a list of items and returns a new list with the order of items reversed, without using any inbuilt Python features that will do this for you (e.g. .reverse() or reversed(…)). As specified in the instructions, your function must not modify the contents of the original list."
   ]
  },
  {
   "cell_type": "code",
   "execution_count": 34,
   "metadata": {},
   "outputs": [],
   "source": [
    "def reversed_list(in_list):\n",
    "    i = 0        \n",
    "    j = len(in_list)-1\n",
    "    while i<j:\n",
    "        in_list[i],in_list[j] = in_list[j],in_list[i]\n",
    "        i += 2\n",
    "        j -= 2\n",
    "    return in_list    \n",
    "    raise NotImplementedError()\n"
   ]
  },
  {
   "cell_type": "code",
   "execution_count": 35,
   "metadata": {},
   "outputs": [
    {
     "data": {
      "text/plain": [
       "[4, 2, 3, 1]"
      ]
     },
     "execution_count": 35,
     "metadata": {},
     "output_type": "execute_result"
    }
   ],
   "source": [
    "reversed_list(in_list=[1,2,3,4])"
   ]
  },
  {
   "cell_type": "code",
   "execution_count": null,
   "metadata": {},
   "outputs": [],
   "source": [
    " # Question 4.\n",
    "\n",
    "Read carefully: Write a function to perform a Bubble Sort on a list of numbers.\n",
    "\n",
    "Bubble sort is a sorting algorithm and works by iterating over the list, comparing adjacent items, and swapping them if they are out of order.\n",
    "\n",
    "Notice that after the first pass of a bubble sort, the biggest item is always moved to the end of the list. This means the next iteration does not need to check the final position of the list.\n",
    "\n",
    "In addition, you can keep track of how many items were swapped on each iteration. If this count is zero on any iteration, then the list must be fully sorted, in which case the algorithm can stop early.\n",
    "\n",
    "Hint: To understand Bubble Sort Algorithm"
   ]
  },
  {
   "cell_type": "code",
   "execution_count": 40,
   "metadata": {},
   "outputs": [],
   "source": [
    "def bubble_sort(in_list):\n",
    "    # YOUR CODE HERE\n",
    "    for i in range(len(in_list)):\n",
    "        for j in range(len(in_list) - 1):\n",
    "            if in_list[j] > in_list[j+1]:\n",
    "                in_list[j], in_list[j+1] = in_list[j+1], in_list[j]  \n",
    "\n",
    "    return in_list                 \n",
    "\n",
    "    raise NotImplementedError()    "
   ]
  },
  {
   "cell_type": "code",
   "execution_count": 45,
   "metadata": {},
   "outputs": [
    {
     "data": {
      "text/plain": [
       "[1, 2, 3, 4, 5]"
      ]
     },
     "execution_count": 45,
     "metadata": {},
     "output_type": "execute_result"
    }
   ],
   "source": [
    "\n",
    "bubble_sort(in_list=[5, 4, 3, 2, 1])"
   ]
  },
  {
   "cell_type": "code",
   "execution_count": 46,
   "metadata": {},
   "outputs": [
    {
     "data": {
      "text/plain": [
       "[4, 9, 19, 22, 35, 37, 42, 53]"
      ]
     },
     "execution_count": 46,
     "metadata": {},
     "output_type": "execute_result"
    }
   ],
   "source": [
    "bubble_sort(in_list=[37, 42, 9, 19, 35, 4, 53, 22])"
   ]
  },
  {
   "cell_type": "code",
   "execution_count": null,
   "metadata": {},
   "outputs": [],
   "source": [
    "# Question 5.\n",
    "\n",
    "Write a function to find $n^{th}$ Fibonacci number The Fibonacci numbers are the numbers in the following integer sequence.\n",
    "\n",
    "1\t2\t3\t4\t5\t6\t7\t8\t9\t10\t11\t12\n",
    "0\t1\t1\t2\t3\t5\t8\t13\t21\t34\t55\t89\n",
    "Please consider index starting from 1\n",
    "\n",
    "In mathematical terms, the sequence $F_n$ of Fibonacci numbers is defined by the recurrence relation\n",
    "\n",
    "$F_n = F_n-1 + F_n-2$\n",
    "\n",
    "with seed values\n",
    "\n",
    "$F_0 = 0$ and $F_1 = 1$"
   ]
  },
  {
   "cell_type": "code",
   "execution_count": 49,
   "metadata": {},
   "outputs": [
    {
     "data": {
      "text/plain": [
       "8"
      ]
     },
     "execution_count": 49,
     "metadata": {},
     "output_type": "execute_result"
    }
   ],
   "source": [
    "def Fibonacci(F):\n",
    "    if F == 1: \n",
    "        return 0 \n",
    "    elif F==2: \n",
    "        return 1\n",
    "    else: \n",
    "        return Fibonacci(F-1)+Fibonacci(F-2)   \n",
    "\n",
    "    raise NotImplementedError()\n",
    "\n",
    "Fibonacci(7)"
   ]
  },
  {
   "cell_type": "code",
   "execution_count": 50,
   "metadata": {},
   "outputs": [
    {
     "data": {
      "text/plain": [
       "21"
      ]
     },
     "execution_count": 50,
     "metadata": {},
     "output_type": "execute_result"
    }
   ],
   "source": [
    "def Fibonacci(F):\n",
    "    if F == 1: \n",
    "        return 0 \n",
    "    elif F==2: \n",
    "        return 1\n",
    "    else: \n",
    "        return Fibonacci(F-1)+Fibonacci(F-2)   \n",
    "\n",
    "    raise NotImplementedError()\n",
    "\n",
    "Fibonacci(9)"
   ]
  },
  {
   "cell_type": "code",
   "execution_count": null,
   "metadata": {},
   "outputs": [],
   "source": []
  }
 ],
 "metadata": {
  "kernelspec": {
   "display_name": "Python 3",
   "language": "python",
   "name": "python3"
  },
  "language_info": {
   "codemirror_mode": {
    "name": "ipython",
    "version": 3
   },
   "file_extension": ".py",
   "mimetype": "text/x-python",
   "name": "python",
   "nbconvert_exporter": "python",
   "pygments_lexer": "ipython3",
   "version": "3.8.5"
  }
 },
 "nbformat": 4,
 "nbformat_minor": 4
}
